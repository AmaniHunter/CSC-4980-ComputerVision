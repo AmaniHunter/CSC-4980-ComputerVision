{
 "cells": [
  {
   "cell_type": "code",
   "execution_count": null,
   "metadata": {
    "collapsed": true
   },
   "outputs": [],
   "source": [
    "\n",
    "import numpy as np\n",
    "from scipy import signal\n",
    "import cv2\n",
    "import matplotlib.pyplot as plt\n",
    "\n",
    "def motion_constraints(Iref, Inext):\n",
    "    kernel_x = np.array([[-1., 1.], [-1., 1.]])*.25\n",
    "    kernel_y = np.array([[-1., -1.], [1., 1.]])*.25\n",
    "    kernel_t = np.array([[1., 1.], [1., 1.]])*.25\n",
    "    Iref = Iref / 255.\n",
    "    Inext = Inext / 255.\n",
    "    mode = 'same'\n",
    "\n",
    "    Ix = signal.convolve2d(Iref, kernel_x, boundary='symm', mode=mode)\n",
    "    Iy = signal.convolve2d(Iref, kernel_y, boundary='symm', mode=mode)\n",
    "    It = signal.convolve2d(Inext, kernel_t, boundary='symm', mode=mode) + signal.convolve2d(Iref, -kernel_t, boundary='symm', mode=mode)\n",
    "    return Ix, Iy, It\n",
    "frameA = \"../#1/frame1.png\"\n",
    "frameB = \"../#1/frame2.png\"\n",
    "frame0 = cv2.imread(frameA)\n",
    "frame0 = cv2.cvtColor(frame0, cv2.COLOR_BGR2GRAY)\n",
    "frame0 = cv2.resize(frame0, (87,87))\n",
    "frame1 = cv2.imread(frameB)\n",
    "frame1 = cv2.cvtColor(frame1, cv2.COLOR_BGR2GRAY)\n",
    "frame1 = cv2.resize(frame1, (87,87))\n",
    "\n",
    "Ix, Iy, It = motion_constraints(frame0, frame1)\n",
    "print(Ix, Iy, It)"
   ]
  }
 ],
 "metadata": {
  "kernelspec": {
   "display_name": "Python 3",
   "language": "python",
   "name": "python3"
  },
  "language_info": {
   "codemirror_mode": {
    "name": "ipython",
    "version": 2
   },
   "file_extension": ".py",
   "mimetype": "text/x-python",
   "name": "python",
   "nbconvert_exporter": "python",
   "pygments_lexer": "ipython2",
   "version": "2.7.6"
  }
 },
 "nbformat": 4,
 "nbformat_minor": 0
}