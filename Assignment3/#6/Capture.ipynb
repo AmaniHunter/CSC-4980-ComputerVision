{
 "cells": [
  {
   "cell_type": "code",
   "execution_count": null,
   "metadata": {
    "collapsed": true
   },
   "outputs": [],
   "source": [
    "\n",
    "import cv2\n",
    "import cv2.aruco as aruco\n",
    "import numpy as np\n",
    "import os\n",
    "import depthai as dai\n",
    "import matplotlib.pyplot as plt\n",
    "\n",
    "def computeDisparity(img, markerSize =4, totalMarkers=50, draw=True):\n",
    "    gray = cv2.cvtColor(img, cv2.COLOR_BGR2GRAY)\n",
    "    key = getattr(aruco, f'DICT_{markerSize}X{markerSize}_{totalMarkers}')\n",
    "    arucoDict = aruco.Dictionary_get(key)\n",
    "    arucoParam = aruco.DetectorParameters_create()\n",
    "    bboxs, ids, rejected = aruco.detectMarkers(gray, arucoDict, parameters = arucoParam)\n",
    "    return (bboxs)\n",
    "\n",
    "img0 = cv2.imread('frame1.png')\n",
    "img1 = cv2.imread('frame2.png')\n",
    "\n",
    "baseline = 11.5\n",
    "focal_length = 1.636331765375964e+03\n",
    "bbox1= computeDisparity(img0)\n",
    "bbox2 = computeDisparity(img1)\n",
    "\n",
    "d = (baseline * focal_length)/(bbox1[0][0][3][0]-bbox2[0][0][3][0])\n",
    "print('Disparity', d)\n"
   ]
  }
 ],
 "metadata": {
  "kernelspec": {
   "display_name": "Python 3",
   "language": "python",
   "name": "python3"
  },
  "language_info": {
   "codemirror_mode": {
    "name": "ipython",
    "version": 2
   },
   "file_extension": ".py",
   "mimetype": "text/x-python",
   "name": "python",
   "nbconvert_exporter": "python",
   "pygments_lexer": "ipython2",
   "version": "2.7.6"
  }
 },
 "nbformat": 4,
 "nbformat_minor": 0
}