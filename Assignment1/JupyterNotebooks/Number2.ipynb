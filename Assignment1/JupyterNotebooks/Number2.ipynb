{
 "cells": [
  {
   "cell_type": "code",
   "execution_count": null,
   "metadata": {
    "collapsed": true
   },
   "outputs": [],
   "source": [
    "import numpy as np\n",
    "import cv2 as cv\n",
    "from scipy.spatial.transform import Rotation\n",
    "from math import cos, sin, radians\n",
    "import num2help as num2\n",
    "\n",
    "rvecs = num2.rvecs\n",
    "tvecs = num2.tvecs\n",
    "r_obj = Rotation.from_rotvec(np.array(rvecs[0]).reshape(1,3))\n",
    "rot_matrix = r_obj.as_matrix()\n",
    "nprvecs = np.array(rvecs)\n",
    "nptvecs = np.array(tvecs)\n",
    "\n",
    "xc, xs = cos(radians(nprvecs[0][0][0])), sin(radians(nprvecs[0][0][0]))\n",
    "yc, ys = cos(radians(nprvecs[0][1][0])), sin(radians(nprvecs[0][1][0]))\n",
    "zc, zs = cos(radians(nprvecs[0][2][0])), sin(radians(nprvecs[0][2][0]))\n",
    "\n",
    "tx = nptvecs[0][0][0]\n",
    "ty = nptvecs[0][1][0]\n",
    "tz = nptvecs[0][2][0]\n",
    "translation_mtx = np.array([[1,0,0,tx],[0,1,0,ty],[0,0,1,tz],[0,0,0,1]])\n",
    "\n",
    "rotation_x_matrix = np.array([[1, 0, 0, 0], [0, xc, -xs, 0], [0, xs, -xc, 0], [0, 0, 0, 1]])\n",
    "rotation_y_matrix = np.array([[yc, 0, ys, 0], [0, 1, 0, 0], [-ys, 0, yc, 0], [0, 0, 0, 1]])\n",
    "rotation_z_matrix = np.array([[zc, -zs, 0, 0], [zs, zc, 0, 0], [0, 0, 1, 0], [0, 0, 0, 1]])\n",
    "extrinsinc_matrix = np.dot(rotation_z_matrix, np.dot(rotation_y_matrix, np.dot(rotation_x_matrix, translation_mtx)))\n",
    "intrinsic_matrix = np.append(np.append(num2.mtx, [[0], [0], [1]], axis=1), [np.array([0, 0, 0, 1])], axis=0)\n",
    "print('Intrinsinc matrix: ', intrinsic_matrix)\n",
    "print('Extrinsinc matrix, ', extrinsinc_matrix)\n",
    "\n",
    "camera_matrix = np.dot(intrinsic_matrix, extrinsinc_matrix)\n",
    "print('camera_matrix: ', camera_matrix)\n",
    "cv.destroyAllWindows()\n",
    "\n",
    "inverse_matrix = np.linalg.inv(camera_matrix)\n",
    "project_points = np.array([[5],[10],[30],[1]])\n",
    "real_dimensions = inverse_matrix.dot(project_points)\n",
    "\n",
    "print(\"Dimensions\")\n",
    "print(real_dimensions)\n",
    "print(\"X Axis Length: \", real_dimensions[0][0])\n",
    "print(\"Y Axis Length: \", real_dimensions[1][0])\n",
    "print(\"Z Axis Length: \", real_dimensions[2][0])\n"
   ]
  }
 ],
 "metadata": {
  "kernelspec": {
   "display_name": "Python 3",
   "language": "python",
   "name": "python3"
  },
  "language_info": {
   "codemirror_mode": {
    "name": "ipython",
    "version": 2
   },
   "file_extension": ".py",
   "mimetype": "text/x-python",
   "name": "python",
   "nbconvert_exporter": "python",
   "pygments_lexer": "ipython2",
   "version": "2.7.6"
  }
 },
 "nbformat": 4,
 "nbformat_minor": 0
}