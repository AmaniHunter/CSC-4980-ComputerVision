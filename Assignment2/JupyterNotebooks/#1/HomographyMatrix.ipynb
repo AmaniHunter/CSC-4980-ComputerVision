{
 "cells": [
  {
   "cell_type": "code",
   "execution_count": null,
   "metadata": {
    "collapsed": true
   },
   "outputs": [],
   "source": [
    "import cv2\n",
    "import numpy as np\n",
    "import matplotlib.pyplot as plt\n",
    "\n",
    "src_points = np.array([[1335,978],[1333,1928],[2989,1950],[2988,952]])\n",
    "dest_points = np.array([[299,856],[329,1948],[2131,1878],[2122,896]])\n",
    "\n",
    "h, status = cv2.findHomography(src_points, dest_points)\n",
    "\n",
    "im_src = cv2.imread('Amani_capture_isp_1.png')\n",
    "im_dst = cv2.imread('Amani_capture_isp_2.png')\n",
    "\n",
    "im_out = cv2.warpPerspective(im_src, h, (im_dst.shape[1],im_dst.shape[0]))\n",
    "print(h)\n",
    "cv2.imshow(\"Warped_Source_Image\", im_out)\n",
    "plt.imshow(im_out)\n",
    "plt.show()\n",
    "#HM\n",
    "#[[ 1.55385410e+00  4.56897321e-02 -1.76721065e+03]\n",
    "#[ 1.58042282e-01  1.38417516e+00 -5.57351990e+02]\n",
    "# [ 1.20560432e-04  1.62286723e-05  1.00000000e+00]]\n",
    "\n",
    "\n"
   ]
  }
 ],
 "metadata": {
  "kernelspec": {
   "display_name": "Python 3",
   "language": "python",
   "name": "python3"
  },
  "language_info": {
   "codemirror_mode": {
    "name": "ipython",
    "version": 2
   },
   "file_extension": ".py",
   "mimetype": "text/x-python",
   "name": "python",
   "nbconvert_exporter": "python",
   "pygments_lexer": "ipython2",
   "version": "2.7.6"
  }
 },
 "nbformat": 4,
 "nbformat_minor": 0
}