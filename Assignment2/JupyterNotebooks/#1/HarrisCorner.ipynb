{
 "cells": [
  {
   "cell_type": "code",
   "execution_count": null,
   "metadata": {
    "collapsed": true
   },
   "outputs": [],
   "source": [
    "\n",
    "import numpy as np\n",
    "import cv2\n",
    "import matplotlib.pyplot as plt\n",
    "\n",
    "captured_image = cv2.imread(\"Amani_capture_isp_2.png\")\n",
    "grayImg = cv2.cvtColor(captured_image, cv2.COLOR_BGR2GRAY)\n",
    "grayImg = np.float32(grayImg)\n",
    "dest = cv2.cornerHarris(grayImg, 8, 29, 0.05)\n",
    "dest = cv2.dilate(dest, None)\n",
    "captured_image[dest > 0.01 * dest.max()] = [0, 0, 255]\n",
    "cv2.imshow('HarrisCorners', captured_image)\n",
    "cv2.imwrite(\"HarrisCorners.png\", captured_image)\n",
    "\n",
    "plt.imshow(captured_image)\n",
    "plt.show()"
   ]
  }
 ],
 "metadata": {
  "kernelspec": {
   "display_name": "Python 3",
   "language": "python",
   "name": "python3"
  },
  "language_info": {
   "codemirror_mode": {
    "name": "ipython",
    "version": 2
   },
   "file_extension": ".py",
   "mimetype": "text/x-python",
   "name": "python",
   "nbconvert_exporter": "python",
   "pygments_lexer": "ipython2",
   "version": "2.7.6"
  }
 },
 "nbformat": 4,
 "nbformat_minor": 0
}