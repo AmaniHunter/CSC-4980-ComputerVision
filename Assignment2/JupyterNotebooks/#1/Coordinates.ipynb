{
 "cells": [
  {
   "cell_type": "code",
   "execution_count": null,
   "metadata": {
    "collapsed": true
   },
   "outputs": [],
   "source": [
    "\n",
    "import cv2\n",
    "\n",
    "def clickImage(event, x, y, flags, params):\n",
    "\tif event == cv2.EVENT_LBUTTONDOWN:\n",
    "\t\tprint(x, ' ', y)\n",
    "\t\tfont = cv2.FONT_HERSHEY_SIMPLEX\n",
    "\t\tcv2.putText(img, str(x) + ',' +\n",
    "\t\t\t\t\tstr(y), (x,y), font,\n",
    "\t\t\t\t\t1, (255, 0, 0), 2)\n",
    "\t\tcv2.imshow('image', img)\n",
    "\tif event==cv2.EVENT_RBUTTONDOWN:\n",
    "\t\tprint(x, ' ', y)\n",
    "\t\tfont = cv2.FONT_HERSHEY_SIMPLEX\n",
    "\t\tb = img[y, x, 0]\n",
    "\t\tg = img[y, x, 1]\n",
    "\t\tr = img[y, x, 2]\n",
    "\t\tcv2.putText(img, str(b) + ',' +\n",
    "\t\t\t\t\tstr(g) + ',' + str(r),\n",
    "\t\t\t\t\t(x,y), font, 1,\n",
    "\t\t\t\t\t(255, 255, 0), 2)\n",
    "\t\tcv2.imshow('image', img)\n",
    "\n",
    "#img = cv2.imread('Amani_capture_isp_1.png', 1)\n",
    "img = cv2.imread('Amani_capture_isp_2.png', 1)\n",
    "\n",
    "cv2.imshow('image', img)\n",
    "cv2.setMouseCallback('image', clickImage)\n",
    "cv2.waitKey(0)\n",
    "cv2.destroyAllWindows()"
   ]
  }
 ],
 "metadata": {
  "kernelspec": {
   "display_name": "Python 3",
   "language": "python",
   "name": "python3"
  },
  "language_info": {
   "codemirror_mode": {
    "name": "ipython",
    "version": 2
   },
   "file_extension": ".py",
   "mimetype": "text/x-python",
   "name": "python",
   "nbconvert_exporter": "python",
   "pygments_lexer": "ipython2",
   "version": "2.7.6"
  }
 },
 "nbformat": 4,
 "nbformat_minor": 0
}