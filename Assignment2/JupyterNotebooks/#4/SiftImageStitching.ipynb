{
 "cells": [
  {
   "cell_type": "code",
   "execution_count": null,
   "metadata": {
    "collapsed": true
   },
   "outputs": [],
   "source": [
    "import cv2\n",
    "import numpy as np\n",
    "import matplotlib.pyplot as plt\n",
    "\n",
    "img_ = cv2.imread(\"../#1/Amani_capture_isp_2.png\")\n",
    "img1 = cv2.cvtColor(img_,cv2.COLOR_BGR2GRAY)\n",
    "img = cv2.imread(\"../#1/Amani_capture_isp_1.png\")\n",
    "img2 = cv2.cvtColor(img,cv2.COLOR_BGR2GRAY)\n",
    "\n",
    "sift = cv2.SIFT_create()\n",
    "kp1, des1 = sift.detectAndCompute(img1,None)\n",
    "kp2, des2 = sift.detectAndCompute(img2,None)\n",
    "\n",
    "bf = cv2.BFMatcher()\n",
    "matches = bf.knnMatch(des1,des2, k=2)\n",
    "\n",
    "goodMatches = []\n",
    "for m in matches:\n",
    "    if m[0].distance < 0.5*m[1].distance:\n",
    "        goodMatches.append(m)\n",
    "    matches = np.asarray(goodMatches)\n",
    "\n",
    "if len(matches[:,0]) >= 4:\n",
    "    src = np.float32([ kp1[m.queryIdx].pt for m in matches[:,0] ]).reshape(-1,1,2)\n",
    "    dst = np.float32([ kp2[m.trainIdx].pt for m in matches[:,0] ]).reshape(-1,1,2)\n",
    "    H, masked = cv2.findHomography(src, dst, cv2.RANSAC, 5.0)\n",
    "else:\n",
    "    print(\"No Keypoints :(\")\n",
    "\n",
    "dst = cv2.warpPerspective(img_,H,(img.shape[1] + img_.shape[1], img.shape[0]))\n",
    "plt.subplot(122),plt.imshow(dst),plt.title(\"warped Image\")\n",
    "plt.show()\n",
    "plt.figure()\n",
    "dst[0:img.shape[0], 0:img.shape[1]] = img\n",
    "cv2.imwrite(\"output.jpg\",dst)\n",
    "plt.imshow(dst)\n",
    "plt.show()\n"
   ]
  }
 ],
 "metadata": {
  "kernelspec": {
   "display_name": "Python 3",
   "language": "python",
   "name": "python3"
  },
  "language_info": {
   "codemirror_mode": {
    "name": "ipython",
    "version": 2
   },
   "file_extension": ".py",
   "mimetype": "text/x-python",
   "name": "python",
   "nbconvert_exporter": "python",
   "pygments_lexer": "ipython2",
   "version": "2.7.6"
  }
 },
 "nbformat": 4,
 "nbformat_minor": 0
}