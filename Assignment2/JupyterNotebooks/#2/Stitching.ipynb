{
 "cells": [
  {
   "cell_type": "code",
   "execution_count": null,
   "metadata": {
    "collapsed": true
   },
   "outputs": [],
   "source": [
    "import numpy as np\n",
    "import cv2\n",
    "\n",
    "imagesPaths1 = [\"./GSU_Buildings/Set2/rialto1.jpeg\",\"./GSU_Buildings/Set2/rialto2.jpeg\",\"./GSU_Buildings/Set2/rialto3.jpeg\"]\n",
    "imagesPaths2 = [\"./GSU_Buildings/Set1/studentcentereast1.jpg\",\"./GSU_Buildings/Set1/studentcentereast2.jpg\",\"./GSU_Buildings/Set1/studentcentereast3.jpg\"]\n",
    "imagesPaths3 = [\"./GSU_Buildings/Set3/bookstore1.jpg\",\"./GSU_Buildings/Set3/bookstore2.jpg\",\"./GSU_Buildings/Set3/bookstore3.jpg\"]\n",
    "imagesPaths4 = [\"./GSU_Buildings/Set4/bookstore5.jpg\",\"./GSU_Buildings/Set4/bookstore6.jpg\",\"./GSU_Buildings/Set4/bookstore7.jpg\"]\n",
    "imagesPaths5 = [\"./GSU_Buildings/Set5/tdeck1.jpg\",\"./GSU_Buildings/Set5/tdeck2.jpg\",\"./GSU_Buildings/Set5/tdeck3.jpg\"]\n",
    "images = []\n",
    "\n",
    "for path in imagesPaths2:\n",
    "\timage = cv2.imread(path)\n",
    "\timages.append(image)\n",
    "\n",
    "stitcher = cv2.Stitcher_create()\n",
    "(status, stitched) = stitcher.stitch(images)\n",
    "print(stitched)\n",
    "if status == 0:\n",
    "\tcv2.imshow(\"Stitched images\", stitched)\n",
    "\tcv2.waitKey(0)\n",
    "else:\n",
    "\tprint(\"Failed \")\n",
    "\n"
   ]
  }
 ],
 "metadata": {
  "kernelspec": {
   "display_name": "Python 3",
   "language": "python",
   "name": "python3"
  },
  "language_info": {
   "codemirror_mode": {
    "name": "ipython",
    "version": 2
   },
   "file_extension": ".py",
   "mimetype": "text/x-python",
   "name": "python",
   "nbconvert_exporter": "python",
   "pygments_lexer": "ipython2",
   "version": "2.7.6"
  }
 },
 "nbformat": 4,
 "nbformat_minor": 0
}