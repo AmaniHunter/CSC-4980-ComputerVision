{
 "cells": [
  {
   "cell_type": "code",
   "execution_count": null,
   "metadata": {
    "collapsed": true
   },
   "outputs": [],
   "source": [
    "from imutils.video import FPS\n",
    "from imutils.object_detection import non_max_suppression\n",
    "import numpy as np\n",
    "import argparse\n",
    "import imutils\n",
    "import time\n",
    "import cv2\n",
    "import pytesseract\n",
    "import webbrowser\n",
    "import re\n",
    "import depthai as dai\n",
    "\n",
    "pipeline = dai.Pipeline()\n",
    "\n",
    "camRgb = pipeline.create(dai.node.ColorCamera)\n",
    "xoutVideo = pipeline.create(dai.node.XLinkOut)\n",
    "\n",
    "xoutVideo.setStreamName(\"face detector\")\n",
    "\n",
    "camRgb.setBoardSocket(dai.CameraBoardSocket.RGB)\n",
    "camRgb.setResolution(dai.ColorCameraProperties.SensorResolution.THE_1080_P)\n",
    "camRgb.setVideoSize(860, 720)\n",
    "\n",
    "xoutVideo.input.setBlocking(False)\n",
    "xoutVideo.input.setQueueSize(1)\n",
    "\n",
    "camRgb.video.link(xoutVideo.input)\n",
    "#vid = cv2.VideoCapture(0)\n",
    "with dai.Device(pipeline) as device:\n",
    "    video = device.getOutputQueue(name=\"face detector\", maxSize=1, blocking=False)\n",
    "\n",
    "    while True:\n",
    "        videoIn = video.get()\n",
    "        frame = videoIn.getCvFrame()\n",
    "\n",
    "        cv2.imshow('Face Detector', frame)\n",
    "        if cv2.waitKey(1) == ord('q'):\n",
    "            break\n",
    "cv2.destroyAllWindows()\n"
   ]
  }
 ],
 "metadata": {
  "kernelspec": {
   "display_name": "Python 3",
   "language": "python",
   "name": "python3"
  },
  "language_info": {
   "codemirror_mode": {
    "name": "ipython",
    "version": 2
   },
   "file_extension": ".py",
   "mimetype": "text/x-python",
   "name": "python",
   "nbconvert_exporter": "python",
   "pygments_lexer": "ipython2",
   "version": "2.7.6"
  }
 },
 "nbformat": 4,
 "nbformat_minor": 0
}